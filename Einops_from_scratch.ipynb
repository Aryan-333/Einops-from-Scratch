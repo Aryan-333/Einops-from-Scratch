{
  "nbformat": 4,
  "nbformat_minor": 0,
  "metadata": {
    "colab": {
      "provenance": []
    },
    "kernelspec": {
      "name": "python3",
      "display_name": "Python 3"
    },
    "language_info": {
      "name": "python"
    }
  },
  "cells": [
    {
      "cell_type": "markdown",
      "source": [
        "# Einops from Scratch Implementation\n",
        "## **Implementation of rearrange operation for NumPy arrays**\n",
        "\n"
      ],
      "metadata": {
        "id": "m_SL3_aw8-ca"
      }
    },
    {
      "cell_type": "code",
      "execution_count": 1,
      "metadata": {
        "id": "HJ8goZxp7_2z"
      },
      "outputs": [],
      "source": [
        "import numpy as np\n",
        "import re\n",
        "from typing import Dict, List, Tuple, Set"
      ]
    },
    {
      "cell_type": "markdown",
      "source": [
        "### Core Exception and Helper Functions"
      ],
      "metadata": {
        "id": "c1DtW5W8oRCh"
      }
    },
    {
      "cell_type": "code",
      "source": [
        "class EinopsError(ValueError):\n",
        "    \"\"\"Custom exception for einops operations\"\"\"\n",
        "    pass\n",
        "\n",
        "def _collect_identifiers(pattern: str) -> Set[str]:\n",
        "    \"\"\"Extract unique identifiers from pattern string\"\"\"\n",
        "    clean_pattern = pattern.replace('(', ' ').replace(')', ' ').replace('...', ' ')\n",
        "    return {token for token in clean_pattern.split() if token}\n",
        "\n",
        "def validate_axes_lengths(pattern: str, axes_lengths: Dict[str, int]) -> None:\n",
        "    \"\"\"Check if provided axes lengths match pattern dimensions\"\"\"\n",
        "    pattern_identifiers = _collect_identifiers(pattern)\n",
        "    extra_keys = set(axes_lengths.keys()) - pattern_identifiers\n",
        "    if extra_keys:\n",
        "        raise EinopsError(f\"Unexpected axes_lengths keys: {extra_keys}\")"
      ],
      "metadata": {
        "id": "dtMBXjNcoPcU"
      },
      "execution_count": 2,
      "outputs": []
    },
    {
      "cell_type": "markdown",
      "source": [
        "### Pattern Parsing"
      ],
      "metadata": {
        "id": "nFE3x7r5obp8"
      }
    },
    {
      "cell_type": "code",
      "source": [
        "def parse_pattern(pattern: str) -> Tuple[List[str], List[str]]:\n",
        "    \"\"\"Split and tokenize input/output pattern components\"\"\"\n",
        "    if '->' not in pattern:\n",
        "        raise EinopsError(f\"Pattern must contain '->': {pattern}\")\n",
        "\n",
        "    input_part, output_part = pattern.split('->')\n",
        "\n",
        "    def tokenize(expr: str) -> List[str]:\n",
        "        expr = expr.replace('...', ' ... ')\n",
        "        return re.findall(r'\\(.*?\\)|\\.\\.\\.|\\S+', expr.strip())\n",
        "\n",
        "    return tokenize(input_part), tokenize(output_part)"
      ],
      "metadata": {
        "id": "A7GgwvhZoKsd"
      },
      "execution_count": 3,
      "outputs": []
    },
    {
      "cell_type": "markdown",
      "source": [
        "### Main Rearrange Implementation"
      ],
      "metadata": {
        "id": "ULxjfHmGojm0"
      }
    },
    {
      "cell_type": "code",
      "source": [
        "def rearrange(tensor: np.ndarray, pattern: str, **axes_lengths) -> np.ndarray:\n",
        "    \"\"\"\n",
        "    Rearrange tensor dimensions according to einops pattern\n",
        "\n",
        "    Args:\n",
        "        tensor: Input numpy array\n",
        "        pattern: Einops pattern string (e.g., 'b c h w -> b h w c')\n",
        "        **axes_lengths: Named dimension sizes\n",
        "\n",
        "    Returns:\n",
        "        Rearranged numpy array\n",
        "    \"\"\"\n",
        "    # Initial validation\n",
        "    validate_axes_lengths(pattern, axes_lengths)\n",
        "    input_dims, output_dims = parse_pattern(pattern)\n",
        "\n",
        "    # Pattern validation\n",
        "    if any('(' in dim and not dim.endswith(')') for dim in input_dims + output_dims):\n",
        "        raise EinopsError(\"Mismatched parentheses in pattern\")\n",
        "    if sum(1 for dim in input_dims if dim == '...') > 1:\n",
        "        raise EinopsError(\"Multiple ellipses in input pattern\")\n",
        "    if ('...' in input_dims) != ('...' in output_dims):\n",
        "        raise EinopsError(\"Ellipsis must appear in both input and output patterns if used\")\n",
        "\n",
        "    # Setup dimension mappings\n",
        "    shape = tensor.shape\n",
        "    ndim = len(shape)\n",
        "    input_ellipsis_idx = input_dims.index('...') if '...' in input_dims else -1\n",
        "    output_ellipsis_idx = output_dims.index('...') if '...' in output_dims else -1\n",
        "\n",
        "\n",
        "# Ellipsis Handling & Dimension Processing\n",
        "\n",
        "\n",
        "    # Process ellipsis dimensions\n",
        "    if input_ellipsis_idx >= 0:\n",
        "        n_explicit = len([d for d in input_dims if d != '...'])\n",
        "        n_ellipsis = ndim - n_explicit\n",
        "        if n_ellipsis < 0:\n",
        "            raise EinopsError(\"Not enough dimensions in tensor\")\n",
        "        full_input_dims = (\n",
        "            input_dims[:input_ellipsis_idx] +\n",
        "            [f'_d{i}' for i in range(n_ellipsis)] +\n",
        "            input_dims[input_ellipsis_idx + 1:]\n",
        "        )\n",
        "        full_output_dims = (\n",
        "            output_dims[:output_ellipsis_idx] +\n",
        "            [f'_d{i}' for i in range(n_ellipsis)] +\n",
        "            output_dims[output_ellipsis_idx + 1:]\n",
        "        )\n",
        "    else:\n",
        "        full_input_dims = input_dims\n",
        "        full_output_dims = output_dims\n",
        "        n_ellipsis = 0\n",
        "\n",
        "  # Initialize tracking variables\n",
        "    dim_sizes = {}\n",
        "    composite_dims = {}\n",
        "    pos = 0\n",
        "    input_dim_to_pos = {}\n",
        "\n",
        "    # Process input dimensions\n",
        "    for dim in full_input_dims:\n",
        "        if dim.startswith('_d'):\n",
        "            dim_sizes[dim] = shape[pos]\n",
        "            input_dim_to_pos[dim] = pos\n",
        "            pos += 1\n",
        "        elif '(' in dim:\n",
        "            components = dim.strip('()').split()\n",
        "            total_size = shape[pos]\n",
        "            composite_dims[dim] = components\n",
        "\n",
        "            known_size = 1\n",
        "            unknown = None\n",
        "            for comp in components:\n",
        "                if comp in axes_lengths:\n",
        "                    known_size *= axes_lengths[comp]\n",
        "                    dim_sizes[comp] = axes_lengths[comp]\n",
        "                else:\n",
        "                    if unknown is not None:\n",
        "                        raise EinopsError(f\"Multiple unknown dimensions in {dim}\")\n",
        "                    unknown = comp\n",
        "\n",
        "            if unknown is not None:\n",
        "                if total_size % known_size != 0:\n",
        "                    raise EinopsError(f\"Cannot divide dimension size {total_size} by {known_size}\")\n",
        "                dim_sizes[unknown] = total_size // known_size\n",
        "            elif total_size != known_size:\n",
        "                raise EinopsError(f\"Size mismatch for {dim}: expected {known_size}, got {total_size}\")\n",
        "\n",
        "            for comp in components:\n",
        "                input_dim_to_pos[comp] = pos\n",
        "            pos += 1\n",
        "        else:\n",
        "            if pos >= len(shape):\n",
        "                raise EinopsError(\"Not enough dimensions in tensor\")\n",
        "            if dim in axes_lengths:\n",
        "                if shape[pos] != axes_lengths[dim] and shape[pos] != 1:\n",
        "                    raise EinopsError(f\"Dimension size mismatch for {dim}\")\n",
        "                dim_sizes[dim] = axes_lengths[dim]\n",
        "            else:\n",
        "                dim_sizes[dim] = shape[pos]\n",
        "            input_dim_to_pos[dim] = pos\n",
        "            pos += 1\n",
        "\n",
        "\n",
        "#Transposition & Shape Calculation and Final Operations & Output\n",
        "\n",
        "\n",
        "    if (not any('(' in d for d in full_input_dims + full_output_dims) and\n",
        "        not any(d not in input_dim_to_pos for d in full_output_dims if d != '...')):\n",
        "        permutation = []\n",
        "        used_dims = set()\n",
        "\n",
        "        for dim in full_output_dims:\n",
        "            if dim != '...' and dim not in used_dims:\n",
        "                permutation.append(input_dim_to_pos[dim])\n",
        "                used_dims.add(dim)\n",
        "\n",
        "        current = np.transpose(tensor, permutation) if len(permutation) > 1 else tensor\n",
        "    else:\n",
        "        current = tensor\n",
        "\n",
        "    # Calculate output shape\n",
        "    final_shape = []\n",
        "    repeat_indices = []\n",
        "\n",
        "    for i, dim in enumerate(full_output_dims):\n",
        "        if dim == '...':\n",
        "            for j in range(n_ellipsis):\n",
        "                final_shape.append(dim_sizes[f'_d{j}'])\n",
        "        elif '(' in dim:\n",
        "            components = dim.strip('()').split()\n",
        "            size = 1\n",
        "            for comp in components:\n",
        "                size *= dim_sizes[comp]\n",
        "            final_shape.append(size)\n",
        "        else:\n",
        "            if dim in axes_lengths:\n",
        "                if dim not in dim_sizes or dim_sizes[dim] == 1:\n",
        "                    final_shape.append(axes_lengths[dim])\n",
        "                    repeat_indices.append((len(final_shape) - 1, axes_lengths[dim]))\n",
        "                else:\n",
        "                    final_shape.append(dim_sizes[dim])\n",
        "            else:\n",
        "                final_shape.append(dim_sizes[dim])\n",
        "\n",
        "    if repeat_indices:\n",
        "        sorted_repeat_indices = sorted(repeat_indices, key=lambda x: -x[0])\n",
        "        for idx, _ in sorted_repeat_indices:\n",
        "            current = np.expand_dims(current, axis=idx)\n",
        "\n",
        "        for idx, size in sorted_repeat_indices:\n",
        "            current = np.repeat(np.expand_dims(current, axis=idx), size, axis=idx)\n",
        "\n",
        "    # Final reshape\n",
        "    try:\n",
        "        return current.reshape(final_shape)\n",
        "    except ValueError as e:\n",
        "        raise EinopsError(f\"Cannot reshape tensor to shape {final_shape}: {str(e)}\")\n",
        "\n"
      ],
      "metadata": {
        "id": "l7eQn_yQolkV"
      },
      "execution_count": 4,
      "outputs": []
    },
    {
      "cell_type": "markdown",
      "source": [
        "# Comprehensive Test Suite"
      ],
      "metadata": {
        "id": "fS0qthXns2r0"
      }
    },
    {
      "cell_type": "markdown",
      "source": [
        "- Basic Operations Tests"
      ],
      "metadata": {
        "id": "g7yIH1kPs7ve"
      }
    },
    {
      "cell_type": "code",
      "source": [
        "def test_basic_transpose():\n",
        "    x = np.random.rand(95, 24)\n",
        "    result = rearrange(x, 'h w -> w h')\n",
        "    assert result.shape == (24, 95), f\"Expected (24, 95), got {result.shape}\"\n",
        "\n",
        "def test_basic_transposition_with_values():\n",
        "    x = np.array([[1, 2], [3, 4]])\n",
        "    result = rearrange(x, 'a b -> b a')\n",
        "    expected = np.array([[1, 3], [2, 4]])\n",
        "    if not np.array_equal(result, expected):\n",
        "        print(\"Test failed!\")\n",
        "        print(\"Expected output:\\n\", expected)\n",
        "        print(\"Actual output:\\n\", result)\n",
        "    assert np.array_equal(result, expected), \"Value-based transposition failed\"\n",
        "\n",
        "def test_identity_operation():\n",
        "    x = np.random.rand(2, 3, 4)\n",
        "    result = rearrange(x, 'a b c -> a b c')\n",
        "    assert np.array_equal(x, result), \"Identity operation failed\"\n",
        "\n",
        "\n"
      ],
      "metadata": {
        "id": "qY8MnpXtPOXv"
      },
      "execution_count": 5,
      "outputs": []
    },
    {
      "cell_type": "markdown",
      "source": [
        "- Dimension Splitting\n",
        "- Merging Tests\n",
        "\n"
      ],
      "metadata": {
        "id": "i11rIj6FtKzT"
      }
    },
    {
      "cell_type": "code",
      "source": [
        "def test_axis_splitting():\n",
        "    x = np.random.rand(10, 12)\n",
        "    result = rearrange(x, 'h (w c) -> h w c', c=3)\n",
        "    assert result.shape == (10, 4, 3), f\"Expected (10, 4, 3), got {result.shape}\"\n",
        "\n",
        "def test_axis_merging():\n",
        "    x = np.random.rand(3, 4, 5)\n",
        "    result = rearrange(x, 'a b c -> (a b) c')\n",
        "    assert result.shape == (12, 5), f\"Expected (12, 5), got {result.shape}\"\n",
        "\n",
        "def test_nested_splitting():\n",
        "    x = np.arange(2*3*4*5).reshape(2, 3, 4, 5)\n",
        "    result = rearrange(x, 'b (c1 c2) h w -> b c1 c2 h w', c1=3)\n",
        "    assert result.shape == (2, 3, 1, 4, 5), \"Nested splitting failed\"\n",
        "\n",
        "def test_complex_merge_split():\n",
        "    x = np.random.rand(24, 10)\n",
        "    result = rearrange(rearrange(x, '(a b) c -> (b a) c', a=4), '(a b) c -> a b c', a=6)\n",
        "    assert result.shape == (6, 4, 10), \"Merge-split combination failed\"\n",
        "\n",
        "def test_implicit_anonymous_dims():\n",
        "    x = np.random.rand(24, 10)\n",
        "    result = rearrange(x, '(a b c) d -> a b c d', a=2, c=3)\n",
        "    assert result.shape == (2, 4, 3, 10), \"Implicit dimension inference failed\""
      ],
      "metadata": {
        "id": "XOpI06dttLGz"
      },
      "execution_count": 6,
      "outputs": []
    },
    {
      "cell_type": "markdown",
      "source": [
        "- Ellipsis Tests\n"
      ],
      "metadata": {
        "id": "y0NZPYhjtdeG"
      }
    },
    {
      "cell_type": "code",
      "source": [
        "def test_basic_ellipsis():\n",
        "    x = np.random.rand(2, 3, 4, 5)\n",
        "    result = rearrange(x, '... h w -> ... (h w)')\n",
        "    assert result.shape == (2, 3, 20), f\"Expected (2, 3, 20), got {result.shape}\"\n",
        "\n",
        "def test_leading_ellipsis():\n",
        "    x = np.random.rand(2, 3, 4, 5)\n",
        "    result = rearrange(x, '... h w -> h w ...')\n",
        "    assert result.shape == (4, 5, 2, 3), \"Leading ellipsis handling failed\"\n",
        "\n",
        "def test_ellipsis_edge_cases():\n",
        "    # Single dimension\n",
        "    x = np.random.rand(5)\n",
        "    result = rearrange(x, '... -> ...')\n",
        "    assert np.array_equal(x, result), \"Single dimension ellipsis failed\"\n",
        "\n",
        "    # Multiple dimensions\n",
        "    x = np.random.rand(2, 3, 4, 5)\n",
        "    result = rearrange(x, '... -> ...')\n",
        "    assert np.array_equal(x, result), \"Multiple dimension ellipsis failed\"\n",
        "\n",
        "def test_valid_transpose_with_ellipsis():\n",
        "    x = np.random.rand(2, 3, 4, 5)\n",
        "    result = rearrange(x, 'a b ... -> b a ...')\n",
        "    assert result.shape == (3, 2, 4, 5), \"Transpose with ellipsis failed\"\n",
        "\n",
        "def test_parametric_ellipsis():\n",
        "    x = np.random.rand(10, 20, 30, 40)\n",
        "    result = rearrange(x, '... (h h2) (w w2) c -> ... h w (c h2 w2)', h2=2, w2=3)\n",
        "    assert result.shape == (10, 10, 10, 40*2*3), \"Parametric ellipsis failed\"\n"
      ],
      "metadata": {
        "id": "R5rLqlGvtd7j"
      },
      "execution_count": 7,
      "outputs": []
    },
    {
      "cell_type": "markdown",
      "source": [
        " - Repeating Singleton Tests\n",
        " - Advanced and Performance Tests\n"
      ],
      "metadata": {
        "id": "VGCYGNxZtrMP"
      }
    },
    {
      "cell_type": "code",
      "source": [
        "def test_repeating():\n",
        "    x = np.random.rand(3, 1, 5)\n",
        "    result = rearrange(x, 'a 1 c -> a b c', b=4)\n",
        "    assert result.shape == (3, 4, 5), f\"Expected (3, 4, 5), got {result.shape}\"\n",
        "\n",
        "def test_implicit_repeat():\n",
        "    x = np.random.rand(3, 1, 5)\n",
        "    result = rearrange(x, 'a 1 c -> a c 1')\n",
        "    assert np.array_equal(result, x.transpose(0, 2, 1)), \"Implicit repeat failed\"\n",
        "\n",
        "def test_singleton_dimensions():\n",
        "    x = np.random.rand(3, 1, 5)\n",
        "    result = rearrange(x, 'a 1 c -> a c 1 1')\n",
        "    assert result.shape == (3, 5, 1, 1), \"Singleton dimension handling failed\"\n",
        "\n",
        "# Advanced and Performance Tests\n",
        "def test_advanced_reshaping():\n",
        "    x = np.random.rand(2, 32, 32, 3)\n",
        "    result = rearrange(x, 'b (h h2) (w w2) c -> b h w (c h2 w2)', h2=2, w2=2)\n",
        "    assert result.shape == (2, 16, 16, 12), \"Advanced reshaping failed\"\n",
        "\n",
        "def test_performance_sensitive_operations():\n",
        "    x = np.ones((1000, 1000))\n",
        "    result = rearrange(x, 'h w -> w h')\n",
        "    assert result.shape == (1000, 1000), \"Large tensor operation failed\"\n",
        "\n"
      ],
      "metadata": {
        "id": "SqA0ZQqftrV2"
      },
      "execution_count": 8,
      "outputs": []
    },
    {
      "cell_type": "markdown",
      "source": [
        "-  Error Handling Tests\n",
        "-  Edge Cases Tests\n"
      ],
      "metadata": {
        "id": "kxik1jNVuaLB"
      }
    },
    {
      "cell_type": "code",
      "source": [
        "# Error Handling Tests\n",
        "def test_basic_errors():\n",
        "    try:\n",
        "        x = np.random.rand(3, 4)\n",
        "        rearrange(x, 'a b c -> c b a')\n",
        "    except EinopsError:\n",
        "        pass\n",
        "    else:\n",
        "        assert False, \"Failed to catch dimension mismatch\"\n",
        "\n",
        "    try:\n",
        "        x = np.random.rand(3, 4)\n",
        "        rearrange(x, 'a (b c) -> a b c', b=3)\n",
        "    except EinopsError:\n",
        "        pass\n",
        "    else:\n",
        "        assert False, \"Failed to catch missing dimension\"\n",
        "\n",
        "def test_error_insufficient_dims():\n",
        "    try:\n",
        "        x = np.random.rand(3, 4)\n",
        "        rearrange(x, 'a b c -> c b a')\n",
        "    except EinopsError as e:\n",
        "        assert \"Not enough dimensions\" in str(e), \"Wrong error message\"\n",
        "    else:\n",
        "        assert False, \"Failed to catch insufficient dimensions\"\n",
        "\n",
        "def test_error_multiple_unknowns():\n",
        "    try:\n",
        "        x = np.random.rand(12, 10)\n",
        "        rearrange(x, '(a b c) d -> a b c d')\n",
        "    except EinopsError as e:\n",
        "        assert \"Multiple unknown dimensions\" in str(e), \"Wrong error message\"\n",
        "    else:\n",
        "        assert False, \"Failed to catch multiple unknowns\"\n",
        "\n",
        "\n",
        "# Edge Cases Tests\n",
        "\n",
        "def test_large_dimensions():\n",
        "    # Test with very large dimensions\n",
        "    try:\n",
        "        x = np.random.rand(1000000, 2)\n",
        "        result = rearrange(x, 'h w -> w h')\n",
        "        assert result.shape == (2, 1000000), \"Shape mismatch for large dimensions\"\n",
        "    except MemoryError:\n",
        "        print(\"Warning: System memory insufficient for large dimension test\")\n",
        "\n",
        "def test_different_dtypes():\n",
        "    # Test integer types\n",
        "    x = np.random.randint(0, 100, size=(3, 4), dtype=np.int32)\n",
        "    result = rearrange(x, 'h w -> w h')\n",
        "    assert result.dtype == np.int32, \"Should preserve integer dtype\"\n",
        "\n",
        "    # Test floating point types\n",
        "    x = np.random.rand(3, 4).astype(np.float32)\n",
        "    result = rearrange(x, 'h w -> w h')\n",
        "    assert result.dtype == np.float32, \"Should preserve float dtype\"\n",
        "\n",
        "    # Test boolean type\n",
        "    x = np.random.choice([True, False], size=(3, 4))\n",
        "    result = rearrange(x, 'h w -> w h')\n",
        "    assert result.dtype == bool, \"Should preserve boolean dtype\"\n",
        "\n",
        "def test_zero_dim_arrays():\n",
        "    # Test empty array\n",
        "    x = np.array([])\n",
        "    try:\n",
        "        result = rearrange(x, '... -> ...')\n",
        "        assert result.shape == x.shape, \"Shape mismatch for empty array\"\n",
        "    except Exception as e:\n",
        "        assert False, f\"Should handle empty arrays, got error: {str(e)}\"\n",
        "\n",
        "    # Test zero-dimensional array\n",
        "    x = np.array(5)\n",
        "    result = rearrange(x, '... -> ...')\n",
        "    assert result.shape == (), \"Shape mismatch for scalar array\"\n"
      ],
      "metadata": {
        "id": "nEBnSXuZuaUO"
      },
      "execution_count": 9,
      "outputs": []
    },
    {
      "cell_type": "markdown",
      "source": [
        "### **Running all tests**"
      ],
      "metadata": {
        "id": "KpjZ8G7HuqcN"
      }
    },
    {
      "cell_type": "code",
      "source": [
        "def run_all_tests():\n",
        "    # Get functions from global namespace (module level)\n",
        "    test_functions = [obj for name, obj in globals().items()\n",
        "                     if name.startswith('test_') and callable(obj)]\n",
        "\n",
        "    for test in test_functions:\n",
        "        # ... rest of the code ...\n",
        "        try:\n",
        "            test()\n",
        "            print(f\"✅ {test.__name__} passed\")\n",
        "        except AssertionError as e:\n",
        "            print(f\"❌ {test.__name__} failed: {str(e)}\")\n",
        "        except Exception as e:\n",
        "            print(f\"❌ {test.__name__} failed with unexpected error: {str(e)}\")\n",
        "\n",
        "if __name__ == \"__main__\":\n",
        "    run_all_tests()"
      ],
      "metadata": {
        "colab": {
          "base_uri": "https://localhost:8080/"
        },
        "id": "6A3bRIX9uqKf",
        "outputId": "eb86c880-5e85-457a-f0c8-e36f0d50ba50"
      },
      "execution_count": 10,
      "outputs": [
        {
          "output_type": "stream",
          "name": "stdout",
          "text": [
            "✅ test_basic_transpose passed\n",
            "✅ test_basic_transposition_with_values passed\n",
            "✅ test_identity_operation passed\n",
            "✅ test_axis_splitting passed\n",
            "✅ test_axis_merging passed\n",
            "✅ test_nested_splitting passed\n",
            "✅ test_complex_merge_split passed\n",
            "✅ test_implicit_anonymous_dims passed\n",
            "✅ test_basic_ellipsis passed\n",
            "✅ test_leading_ellipsis passed\n",
            "✅ test_ellipsis_edge_cases passed\n",
            "✅ test_valid_transpose_with_ellipsis passed\n",
            "✅ test_parametric_ellipsis passed\n",
            "✅ test_repeating passed\n",
            "✅ test_implicit_repeat passed\n",
            "✅ test_singleton_dimensions passed\n",
            "✅ test_advanced_reshaping passed\n",
            "✅ test_performance_sensitive_operations passed\n",
            "✅ test_basic_errors passed\n",
            "✅ test_error_insufficient_dims passed\n",
            "✅ test_error_multiple_unknowns passed\n",
            "✅ test_large_dimensions passed\n",
            "✅ test_different_dtypes passed\n",
            "✅ test_zero_dim_arrays passed\n"
          ]
        }
      ]
    }
  ]
}